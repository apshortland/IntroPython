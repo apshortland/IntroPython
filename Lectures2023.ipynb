{
  "nbformat": 4,
  "nbformat_minor": 0,
  "metadata": {
    "colab": {
      "provenance": [],
      "authorship_tag": "ABX9TyOfIfn2NusePk4VeTPXU49O",
      "include_colab_link": true
    },
    "kernelspec": {
      "name": "python3",
      "display_name": "Python 3"
    },
    "language_info": {
      "name": "python"
    }
  },
  "cells": [
    {
      "cell_type": "markdown",
      "metadata": {
        "id": "view-in-github",
        "colab_type": "text"
      },
      "source": [
        "<a href=\"https://colab.research.google.com/github/apshortland/IntroPython/blob/main/Lectures2023.ipynb\" target=\"_parent\"><img src=\"https://colab.research.google.com/assets/colab-badge.svg\" alt=\"Open In Colab\"/></a>"
      ]
    },
    {
      "cell_type": "code",
      "execution_count": null,
      "metadata": {
        "id": "fBLyB2nKPyN6"
      },
      "outputs": [],
      "source": []
    },
    {
      "cell_type": "markdown",
      "source": [
        "Intro to variables - by exercises\n",
        "Types\n",
        "Variable conversion - casting.\n",
        "Basic mathematical operations\n",
        "Mutable and Immutable types (why make the differentiation?)\n",
        "\n",
        "Inroduction to lists\n",
        "\n",
        "looping and conditiol\n",
        "(hard type arrays) and perform operations like modal, mean, maximum, minimum, spliting a list into two or more lists depending on the value of the list element - for example generate a list of strings, allocate numbers above and below the median)\n",
        "Height - list\n",
        "Weight - list\n",
        "Create BMI list\n",
        "Split list into groups according to BMI for resourcings\n",
        "\n",
        "\"We are sorting the weight in our clinical group because we are going to do a fifferent low weight and high weight individuals. And we need to see how many of the different procedures we are going for resourcing\"\n",
        "\n",
        "Introduction to Dictionaries\n",
        "Do similar exercise to above\n",
        "key, value being Patient, BMI.\n",
        "Obviously sometimes you have need to contain more than one variable.\n",
        "\n",
        "Nested Dictionary - more than two qualities?\n",
        "\n",
        "List methods - sorting, filtering, reversing, inserting\n",
        "\n",
        "\n",
        "intoduction to libraries\n",
        "\n",
        "\n",
        "import statements - importing sections of the library.\n",
        "Calling function from libraries\n",
        "\n",
        "Let start a commonly used like numpy.\n",
        "What's the difference between a list and an array? (lists of lists?)\n",
        "\n",
        "List to array function\n",
        "\n",
        "Shapes and dimensions - reshaping and resizing\n",
        "\n",
        "Need nice examples based in reality.\n",
        "\n",
        "Import io - you might from a data file and you might want to dummarise it and return some summary data to the bottom of that file (like and operation in excel - this imvolves a bit of string manip and the basic stats functio\n",
        "\n",
        "Next\n",
        "\n",
        "\n",
        "Defining your own functions\n",
        "Define subfunctions\n",
        "Do an example (calculate mean median & sd of an array )\n",
        "\n",
        "Design different functions to do each of these\n",
        "Define a single function that returns all of these\n",
        "\n",
        "Define a function with subfuctions that returns these in list. Why do this?\n",
        "\n",
        "Lecture 2\n",
        "Two useful libraries\n",
        "numpy and matplotlib\n",
        "\n",
        "Lecture 3 Pandas (dealing with larger datasets - database data)\n",
        "Clinical dataset/operational data set"
      ],
      "metadata": {
        "id": "u6H-3skdPzKS"
      }
    }
  ]
}